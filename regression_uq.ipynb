{
 "cells": [
  {
   "cell_type": "code",
   "execution_count": 12,
   "metadata": {},
   "outputs": [],
   "source": [
    "import numpy as np\n",
    "import torch\n",
    "from torch import nn\n",
    "from torch.utils.data import TensorDataset, DataLoader\n",
    "import torch.nn.functional as F\n",
    "\n",
    "from sklearn.metrics import accuracy_score\n",
    "import matplotlib.pyplot as plt\n",
    "from sklearn import metrics\n",
    "from sklearn.metrics import r2_score \n",
    "\n",
    "from alpaca.ue import MCDUE\n",
    "from alpaca.utils.datasets.builder import build_dataset\n",
    "from alpaca.utils.ue_metrics import ndcg\n",
    "from alpaca.ue.masks import BasicBernoulliMask\n",
    "import alpaca.nn as ann"
   ]
  },
  {
   "cell_type": "code",
   "execution_count": 2,
   "metadata": {},
   "outputs": [],
   "source": [
    "# Load dataset\n",
    "dataset = build_dataset('kin8nm', val_split=1_000)\n",
    "x_train, y_train = dataset.dataset('train')\n",
    "x_val, y_val = dataset.dataset('val')\n",
    "x_train.shape, y_val.shape\n",
    "train_ds = TensorDataset(torch.DoubleTensor(x_train), torch.DoubleTensor(y_train))\n",
    "val_ds = TensorDataset(torch.DoubleTensor(x_val), torch.DoubleTensor(y_val))\n",
    "train_loader = DataLoader(train_ds, batch_size=512)\n",
    "val_loader = DataLoader(val_ds, batch_size=512)"
   ]
  },
  {
   "cell_type": "code",
   "execution_count": 5,
   "metadata": {},
   "outputs": [],
   "source": [
    "class BaseMLP(nn.Module):\n",
    "    def __init__(self, layer_sizes, activation, postprocessing=lambda x: x, device=None):\n",
    "        super(BaseMLP, self).__init__()\n",
    "\n",
    "        if device is None:\n",
    "            self.device = 'cuda' if torch.cuda.is_available() else 'cpu'\n",
    "        else:\n",
    "            self.device = device\n",
    "\n",
    "        self.layer_sizes = layer_sizes\n",
    "        self.fcs = []\n",
    "        for i, layer in enumerate(layer_sizes[:-1]):\n",
    "            fc = nn.Linear(layer, layer_sizes[i+1])\n",
    "            setattr(self, 'fc'+str(i), fc)  # to register params\n",
    "            self.fcs.append(fc)\n",
    "        self.postprocessing = postprocessing\n",
    "        self.activation = activation\n",
    "        self.double()\n",
    "        self.to(self.device)\n",
    "\n",
    "    def forward(self, x, dropout_rate=0, dropout_mask=None):\n",
    "        x = self.activation(self.fcs[0](x))\n",
    "\n",
    "        for layer_num, fc in enumerate(self.fcs[1:-1]):\n",
    "            x = self.activation(fc(x))\n",
    "            if dropout_mask is None:\n",
    "                x = nn.Dropout(dropout_rate)(x)\n",
    "            else:\n",
    "                x = x*dropout_mask(x, dropout_rate, layer_num).double()\n",
    "        x = self.fcs[-1](x)\n",
    "        x = self.postprocessing(x)\n",
    "        return x\n",
    "\n",
    "class MLP(BaseMLP):\n",
    "    def __init__(self, layer_sizes, postprocessing=None, loss=nn.MSELoss,\n",
    "                 optimizer=None, activation=None, **kwargs):\n",
    "        if postprocessing is None:\n",
    "            postprocessing = lambda x: x\n",
    "\n",
    "        if activation is None:\n",
    "            activation = F.celu\n",
    "\n",
    "        super(MLP, self).__init__(layer_sizes, activation=activation, postprocessing=postprocessing, **kwargs)\n",
    "\n",
    "        self.criterion = loss()\n",
    "\n",
    "        if optimizer is None:\n",
    "            optimizer = {'type': 'Adadelta'}\n",
    "        self.optimizer = self.init_optimizer(optimizer)\n",
    "\n",
    "    def init_optimizer(self, optimizer):\n",
    "        if isinstance(optimizer, dict):\n",
    "            kwargs = optimizer.copy()\n",
    "            opt_type = getattr(torch.optim, kwargs.pop('type'))\n",
    "            kwargs['params'] = self.parameters()\n",
    "            optimizer = opt_type(**kwargs)\n",
    "        elif not isinstance(optimizer, torch.optim.Optimizer):\n",
    "            raise TypeError(\n",
    "                'optimizer must be either an Optimizer object or a dict, '\n",
    "                'but got {}'.format(type(optimizer)))\n",
    "        return optimizer"
   ]
  },
  {
   "cell_type": "code",
   "execution_count": 7,
   "metadata": {},
   "outputs": [],
   "source": [
    "# Train model\n",
    "layers = (8, 256, 128, 64, 1)\n",
    "model = MLP(layers)"
   ]
  },
  {
   "cell_type": "code",
   "execution_count": 9,
   "metadata": {},
   "outputs": [
    {
     "name": "stdout",
     "output_type": "stream",
     "text": [
      "Train loss on last batch 0.015673447147550233\n"
     ]
    }
   ],
   "source": [
    "criterion = nn.MSELoss()\n",
    "optimizer = torch.optim.Adam(model.parameters())\n",
    "\n",
    "model.train()\n",
    "for epochs in range(10):\n",
    "    for x_batch, y_batch in train_loader: # Train for one epoch\n",
    "        predictions = model(x_batch)\n",
    "        loss = criterion(predictions, y_batch)\n",
    "        optimizer.zero_grad()\n",
    "        loss.backward()\n",
    "        optimizer.step()\n",
    "print('Train loss on last batch', loss.item())"
   ]
  },
  {
   "cell_type": "code",
   "execution_count": 13,
   "metadata": {},
   "outputs": [
    {
     "name": "stdout",
     "output_type": "stream",
     "text": [
      "R2 0.5611923085696566\n"
     ]
    }
   ],
   "source": [
    "# Check model effectiveness \n",
    "model.eval()\n",
    "x_batch, y_batch = next(iter(val_loader))\n",
    "predictions = model(x_batch).detach().cpu().numpy()\n",
    "print('R2', r2_score(predictions, y_batch))"
   ]
  },
  {
   "cell_type": "code",
   "execution_count": 16,
   "metadata": {},
   "outputs": [
    {
     "name": "stderr",
     "output_type": "stream",
     "text": [
      "Uncertainty estimation with MCDUE_regression approach: 100%|██████████| 25/25 [00:00<00:00, 169.74it/s]\n"
     ]
    }
   ],
   "source": [
    "# Calculate uncertainty estimation\n",
    "estimator = MCDUE(model)\n",
    "predictions, estimations = estimator.estimate(x_batch)"
   ]
  },
  {
   "cell_type": "code",
   "execution_count": 19,
   "metadata": {},
   "outputs": [
    {
     "name": "stdout",
     "output_type": "stream",
     "text": [
      "Quality score is  0.9254815020030868\n"
     ]
    }
   ],
   "source": [
    "# Calculate NDCG score for the uncertainty\n",
    "errors = np.abs(estimations - y_batch.reshape((-1)).numpy()) \n",
    "score = ndcg(np.array(errors), estimations)\n",
    "print(\"Quality score is \", score)"
   ]
  }
 ],
 "metadata": {
  "kernelspec": {
   "display_name": "Python 3",
   "language": "python",
   "name": "python3"
  },
  "language_info": {
   "codemirror_mode": {
    "name": "ipython",
    "version": 3
   },
   "file_extension": ".py",
   "mimetype": "text/x-python",
   "name": "python",
   "nbconvert_exporter": "python",
   "pygments_lexer": "ipython3",
   "version": "3.7.3"
  },
  "varInspector": {
   "cols": {
    "lenName": 16,
    "lenType": 16,
    "lenVar": 40
   },
   "kernels_config": {
    "python": {
     "delete_cmd_postfix": "",
     "delete_cmd_prefix": "del ",
     "library": "var_list.py",
     "varRefreshCmd": "print(var_dic_list())"
    },
    "r": {
     "delete_cmd_postfix": ") ",
     "delete_cmd_prefix": "rm(",
     "library": "var_list.r",
     "varRefreshCmd": "cat(var_dic_list()) "
    }
   },
   "types_to_exclude": [
    "module",
    "function",
    "builtin_function_or_method",
    "instance",
    "_Feature"
   ],
   "window_display": false
  }
 },
 "nbformat": 4,
 "nbformat_minor": 2
}
