{
 "cells": [
  {
   "cell_type": "code",
   "execution_count": 1,
   "metadata": {},
   "outputs": [],
   "source": [
    "import numpy as np\n",
    "import torch\n",
    "from torch import nn\n",
    "from torch.utils.data import TensorDataset, DataLoader\n",
    "import torch.nn.functional as F\n",
    "\n",
    "from sklearn.metrics import accuracy_score\n",
    "import matplotlib.pyplot as plt\n",
    "from sklearn import metrics\n",
    "\n",
    "from alpaca.ue import MCDUE\n",
    "from alpaca.utils.datasets.builder import build_dataset\n",
    "from alpaca.utils.ue_metrics import ndcg\n",
    "from alpaca.ue.masks import BasicBernoulliMask\n",
    "import alpaca.nn as ann\n",
    "from alpaca.utils import model_builder"
   ]
  },
  {
   "cell_type": "code",
   "execution_count": 2,
   "metadata": {},
   "outputs": [],
   "source": [
    "# Load dataset\n",
    "mnist = build_dataset('mnist', val_size=10000)\n",
    "x_train, y_train = mnist.dataset('train')\n",
    "x_val, y_val = mnist.dataset('val')\n",
    "x_shape = (-1, 1, 28, 28)\n",
    "\n",
    "train_ds = TensorDataset(torch.FloatTensor(x_train.reshape(x_shape)), torch.LongTensor(y_train))\n",
    "val_ds = TensorDataset(torch.FloatTensor(x_val.reshape(x_shape)), torch.LongTensor(y_val))\n",
    "train_loader = DataLoader(train_ds, batch_size=512)\n",
    "val_loader = DataLoader(val_ds, batch_size=512)"
   ]
  },
  {
   "cell_type": "code",
   "execution_count": 3,
   "metadata": {},
   "outputs": [],
   "source": [
    "class SimpleConv(nn.Module):\n",
    "    def __init__(self, num_classes=10, activation=None, dropout_rate=0.5, dropout_mask=None):\n",
    "        if activation is None:\n",
    "            self.activation = F.leaky_relu\n",
    "        else:\n",
    "            self.activation = activation\n",
    "        super().__init__()\n",
    "        self.conv1 = nn.Conv2d(1, 16, 3)\n",
    "        self.conv2 = nn.Conv2d(16, 32, 3)\n",
    "        self.linear_size = 12*12*32\n",
    "        self.fc1 = nn.Linear(self.linear_size, 256)\n",
    "        self.dropout = ann.Dropout()\n",
    "        self.fc2 = nn.Linear(256, num_classes)\n",
    "\n",
    "    def forward(self, x):\n",
    "        x = self.activation(self.conv1(x))\n",
    "        x = self.activation(self.conv2(x))\n",
    "        x = F.max_pool2d(x, 2, 2)\n",
    "        x = x.view(-1, self.linear_size)\n",
    "        x = self.activation(self.fc1(x))\n",
    "        x = self.dropout(x)\n",
    "        x = self.fc2(x)\n",
    "        return x"
   ]
  },
  {
   "cell_type": "code",
   "execution_count": 4,
   "metadata": {},
   "outputs": [],
   "source": [
    "model = SimpleConv()\n",
    "model = model_builder.build_model(model, dropout_rate=0.5, dropout_mask=None)"
   ]
  },
  {
   "cell_type": "code",
   "execution_count": 5,
   "metadata": {},
   "outputs": [],
   "source": [
    "def train_model():\n",
    "    # Train model\n",
    "    model = SimpleConv(dropout_mask=BasicBernoulliMask)\n",
    "    criterion = nn.CrossEntropyLoss()\n",
    "    optimizer = torch.optim.Adam(model.parameters())\n",
    "\n",
    "    for x_batch, y_batch in train_loader: # Train for one epoch\n",
    "        print('.', end='')\n",
    "        prediction = model(x_batch)\n",
    "        optimizer.zero_grad()\n",
    "        loss = criterion(prediction, y_batch)\n",
    "        loss.backward()\n",
    "        optimizer.step()\n",
    "    print('\\nTrain loss on last batch', loss.item())\n",
    "    return model"
   ]
  },
  {
   "cell_type": "code",
   "execution_count": 6,
   "metadata": {},
   "outputs": [
    {
     "name": "stdout",
     "output_type": "stream",
     "text": [
      ".\n",
      "Train loss on last batch 5.570048809051514\n"
     ]
    }
   ],
   "source": [
    "model = train_model(model)"
   ]
  },
  {
   "cell_type": "code",
   "execution_count": 11,
   "metadata": {},
   "outputs": [
    {
     "name": "stderr",
     "output_type": "stream",
     "text": [
      "Uncertainty estimation with MCDUE_classification approach: 100%|██████████| 25/25 [00:02<00:00,  8.72it/s]\n"
     ]
    }
   ],
   "source": [
    "x_batch, y_batch = next(iter(val_loader))\n",
    "class_preds = F.softmax(model(x_batch), dim=-1).detach().numpy()\n",
    "# Calculate uncertainty estimation\n",
    "estimator = MCDUE(model, num_classes=10, acquisition=\"bald_normed\")\n",
    "predictions, estimations = estimator.estimate(x_batch)"
   ]
  },
  {
   "cell_type": "code",
   "execution_count": 12,
   "metadata": {},
   "outputs": [
    {
     "name": "stdout",
     "output_type": "stream",
     "text": [
      "Quality score is  0.7576639516164719\n"
     ]
    }
   ],
   "source": [
    "# Calculate NDCG score for the uncertainty\n",
    "errors = [metrics.log_loss(target.reshape(-1, 1), pred.reshape((-1, 10)), labels=list(range(10))) for pred, target in zip(class_preds, y_batch.numpy())]\n",
    "score = ndcg(np.array(errors), estimations)\n",
    "print(\"Quality score is \", score)"
   ]
  },
  {
   "cell_type": "markdown",
   "metadata": {},
   "source": [
    "## Try different mask"
   ]
  },
  {
   "cell_type": "code",
   "execution_count": 15,
   "metadata": {},
   "outputs": [],
   "source": [
    "model = SimpleConv()\n",
    "model = model_builder.build_model(model, dropout_rate=0.5, dropout_mask=BasicBernoulliMask())"
   ]
  },
  {
   "cell_type": "code",
   "execution_count": 16,
   "metadata": {},
   "outputs": [
    {
     "name": "stdout",
     "output_type": "stream",
     "text": [
      ".\n",
      "Train loss on last batch 6.535654544830322\n"
     ]
    }
   ],
   "source": [
    "model = train_model(model)"
   ]
  },
  {
   "cell_type": "code",
   "execution_count": 17,
   "metadata": {},
   "outputs": [
    {
     "name": "stderr",
     "output_type": "stream",
     "text": [
      "Uncertainty estimation with MCDUE_classification approach: 100%|██████████| 25/25 [00:03<00:00,  8.26it/s]\n"
     ]
    }
   ],
   "source": [
    "x_batch, y_batch = next(iter(val_loader))\n",
    "class_preds = F.softmax(model(x_batch), dim=-1).detach().numpy()\n",
    "# Calculate uncertainty estimation\n",
    "estimator = MCDUE(model, num_classes=10, acquisition=\"bald_normed\")\n",
    "predictions, estimations = estimator.estimate(x_batch)"
   ]
  },
  {
   "cell_type": "code",
   "execution_count": 18,
   "metadata": {},
   "outputs": [
    {
     "name": "stdout",
     "output_type": "stream",
     "text": [
      "Quality score is  0.7989338552446705\n"
     ]
    }
   ],
   "source": [
    "# Calculate NDCG score for the uncertainty\n",
    "errors = [metrics.log_loss(target.reshape(-1, 1), pred.reshape((-1, 10)), labels=list(range(10))) for pred, target in zip(class_preds, y_batch.numpy())]\n",
    "score = ndcg(np.array(errors), estimations)\n",
    "print(\"Quality score is \", score)"
   ]
  },
  {
   "cell_type": "code",
   "execution_count": null,
   "metadata": {},
   "outputs": [],
   "source": []
  }
 ],
 "metadata": {
  "kernelspec": {
   "display_name": "Python 3",
   "language": "python",
   "name": "python3"
  },
  "language_info": {
   "codemirror_mode": {
    "name": "ipython",
    "version": 3
   },
   "file_extension": ".py",
   "mimetype": "text/x-python",
   "name": "python",
   "nbconvert_exporter": "python",
   "pygments_lexer": "ipython3",
   "version": "3.7.3"
  },
  "varInspector": {
   "cols": {
    "lenName": 16,
    "lenType": 16,
    "lenVar": 40
   },
   "kernels_config": {
    "python": {
     "delete_cmd_postfix": "",
     "delete_cmd_prefix": "del ",
     "library": "var_list.py",
     "varRefreshCmd": "print(var_dic_list())"
    },
    "r": {
     "delete_cmd_postfix": ") ",
     "delete_cmd_prefix": "rm(",
     "library": "var_list.r",
     "varRefreshCmd": "cat(var_dic_list()) "
    }
   },
   "types_to_exclude": [
    "module",
    "function",
    "builtin_function_or_method",
    "instance",
    "_Feature"
   ],
   "window_display": false
  }
 },
 "nbformat": 4,
 "nbformat_minor": 2
}
