{
 "cells": [
  {
   "cell_type": "markdown",
   "metadata": {},
   "source": [
    "## Active learning\n",
    "It's example how to benchmark algorithm by active learning.\n"
   ]
  },
  {
   "cell_type": "code",
   "execution_count": null,
   "metadata": {
    "pycharm": {
     "is_executing": false,
     "name": "#%%\n"
    }
   },
   "outputs": [],
   "source": [
    "from copy import deepcopy\n",
    "from collections import defaultdict\n",
    "\n",
    "import torch\n",
    "from torch import nn\n",
    "from sklearn.model_selection import train_test_split\n",
    "import matplotlib.pyplot as plt\n",
    "\n",
    "from alpaca.model.mlp import MLP \n",
    "from alpaca.dataloader.builder import build_dataset\n",
    "from alpaca.dataloader.utils import loader\n",
    "from alpaca.active_learning.simple_update import update_set\n",
    "\n",
    "device = 'cuda' if torch.cuda.is_available() else 'cpu'"
   ]
  },
  {
   "cell_type": "code",
   "execution_count": null,
   "metadata": {
    "pycharm": {
     "is_executing": false,
     "name": "#%%\n"
    }
   },
   "outputs": [],
   "source": [
    "start_size = 500\n",
    "step_size = 10\n",
    "steps = 50\n",
    "batch_size = 128\n",
    "methods = ['mc_dropout', 'random', 'max_entropy']"
   ]
  },
  {
   "cell_type": "code",
   "execution_count": null,
   "metadata": {
    "pycharm": {
     "is_executing": false,
     "name": "#%%\n"
    }
   },
   "outputs": [],
   "source": [
    "# Load dataset\n",
    "mnist = build_dataset('year_prediction_msd', val_split=1_000)\n",
    "x_set, y_set = mnist.dataset('train')\n",
    "x_train_init, x_pool_init, y_train_init, y_pool_init = train_test_split(x_set, y_set, train_size=start_size)\n",
    "x_val, y_val = mnist.dataset('val')\n",
    "val_loader = loader(x_val, y_val)"
   ]
  },
  {
   "cell_type": "code",
   "execution_count": null,
   "metadata": {
    "pycharm": {
     "is_executing": false,
     "name": "#%%\n"
    }
   },
   "outputs": [],
   "source": [
    "criterion = nn.MSELoss()\n",
    "layers = (x_val.shape[-1], 256, 128, 64, 1)\n",
    "\n",
    "def val_loss(model, x_val, y_val):\n",
    "    predictions = model(torch.DoubleTensor(x_val).to(device))\n",
    "    loss = criterion(predictions, torch.DoubleTensor(y_val).to(device))\n",
    "    return loss.item()\n",
    "    "
   ]
  },
  {
   "cell_type": "code",
   "execution_count": null,
   "metadata": {
    "pycharm": {
     "is_executing": false,
     "name": "#%%\n"
    }
   },
   "outputs": [],
   "source": [
    "results = defaultdict(list) \n",
    "for method in methods:\n",
    "    print(method)\n",
    "    model = MLP(layers)\n",
    "    model.to(device)\n",
    "    x_train, y_train = deepcopy(x_train_init), deepcopy(y_train_init)\n",
    "    x_pool, y_pool = deepcopy(x_pool_init), deepcopy(y_pool_init)\n",
    "\n",
    "    optimizer = torch.optim.Adam(model.parameters())\n",
    "    \n",
    "    # Iternatively train model, sampling more dataset from pool on each step\n",
    "    for step in range(steps):\n",
    "        print(step+1, end=' ')\n",
    "        train_loader = loader(x_train, y_train)\n",
    "        for epoch in range(3):\n",
    "            for x_batch, y_batch in train_loader: # Train for one epoch\n",
    "                predictions = model(x_batch.to(device))\n",
    "                loss = criterion(predictions, y_batch.to(device))\n",
    "                optimizer.zero_grad()\n",
    "                loss.backward()\n",
    "                optimizer.step()\n",
    "            \n",
    "        results[method].append(val_loss(model, x_val, y_val))\n",
    "            \n",
    "        # update sets\n",
    "        x_pool, x_train, y_pool, y_train = update_set(\n",
    "            x_pool, x_train, y_pool, y_train, step_size, model=model, method=method, task='regression')\n"
   ]
  },
  {
   "cell_type": "code",
   "execution_count": null,
   "metadata": {
    "pycharm": {
     "is_executing": false,
     "name": "#%%\n"
    }
   },
   "outputs": [],
   "source": [
    "plt.figure()\n",
    "plt.xlabel('Steps')\n",
    "plt.ylabel('MSE loss')\n",
    "for method in methods:\n",
    "    plt.plot(results[method][3:], label=method)\n",
    "plt.legend()\n"
   ]
  }
 ],
 "metadata": {
  "kernelspec": {
   "display_name": "Python 3",
   "language": "python",
   "name": "python3"
  },
  "language_info": {
   "codemirror_mode": {
    "name": "ipython",
    "version": 3
   },
   "file_extension": ".py",
   "mimetype": "text/x-python",
   "name": "python",
   "nbconvert_exporter": "python",
   "pygments_lexer": "ipython3",
   "version": "3.7.4"
  }
 },
 "nbformat": 4,
 "nbformat_minor": 1
}