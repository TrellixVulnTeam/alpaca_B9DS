{
 "cells": [
  {
   "cell_type": "code",
   "execution_count": 1,
   "metadata": {},
   "outputs": [],
   "source": [
    "import numpy as np\n",
    "import torch\n",
    "from torch import nn\n",
    "from torch.utils.data import TensorDataset, DataLoader\n",
    "import torch.nn.functional as F\n",
    "\n",
    "from sklearn.metrics import accuracy_score\n",
    "import matplotlib.pyplot as plt\n",
    "from sklearn import metrics\n",
    "\n",
    "from alpaca.ue import MCDUE\n",
    "from alpaca.utils.datasets.builder import build_dataset\n",
    "from alpaca.utils.ue_metrics import ndcg, classification_metric\n",
    "from alpaca.ue.masks import BasicBernoulliMask\n",
    "import alpaca.nn as ann"
   ]
  },
  {
   "cell_type": "markdown",
   "metadata": {},
   "source": [
    "## Prepare the dataset"
   ]
  },
  {
   "cell_type": "code",
<<<<<<< HEAD
   "execution_count": 2,
   "metadata": {},
=======
   "execution_count": null,
   "metadata": {
    "pycharm": {
     "is_executing": false,
     "name": "#%%\n"
    }
   },
>>>>>>> master
   "outputs": [],
   "source": [
    "# Load dataset\n",
    "mnist = build_dataset('mnist', val_size=10000)\n",
    "x_train, y_train = mnist.dataset('train')\n",
    "x_val, y_val = mnist.dataset('val')\n",
    "x_shape = (-1, 1, 28, 28)\n",
    "\n",
    "train_ds = TensorDataset(torch.FloatTensor(x_train.reshape(x_shape)), torch.LongTensor(y_train))\n",
    "val_ds = TensorDataset(torch.FloatTensor(x_val.reshape(x_shape)), torch.LongTensor(y_val))\n",
    "train_loader = DataLoader(train_ds, batch_size=512)\n",
<<<<<<< HEAD
    "val_loader = DataLoader(val_ds, batch_size=512)"
   ]
  },
  {
   "cell_type": "markdown",
   "metadata": {},
   "source": [
    "## Define the model"
=======
    "val_loader = DataLoader(val_ds, batch_size=512)\n"
>>>>>>> master
   ]
  },
  {
   "cell_type": "code",
<<<<<<< HEAD
   "execution_count": 3,
   "metadata": {},
=======
   "execution_count": null,
   "metadata": {
    "pycharm": {
     "is_executing": false,
     "name": "#%%\n"
    }
   },
>>>>>>> master
   "outputs": [],
   "source": [
    "class SimpleConv(nn.Module):\n",
    "    def __init__(self, num_classes=10, activation=None, dropout_rate=0.5, dropout_mask=None):\n",
    "        if activation is None:\n",
    "            self.activation = F.leaky_relu\n",
    "        else:\n",
    "            self.activation = activation\n",
    "        super().__init__()\n",
    "        self.conv1 = nn.Conv2d(1, 16, 3)\n",
    "        self.conv2 = nn.Conv2d(16, 32, 3)\n",
    "        self.linear_size = 12*12*32\n",
    "        self.fc1 = nn.Linear(self.linear_size, 256)\n",
    "        self.dropout = ann.Dropout(dropout_rate=dropout_rate, dropout_mask=dropout_mask())\n",
    "        self.fc2 = nn.Linear(256, num_classes)\n",
    "\n",
    "    def forward(self, x):\n",
    "        x = self.activation(self.conv1(x))\n",
    "        x = self.activation(self.conv2(x))\n",
    "        x = F.max_pool2d(x, 2, 2)\n",
    "        x = x.view(-1, self.linear_size)\n",
    "        x = self.activation(self.fc1(x))\n",
    "        x = self.dropout(x)\n",
    "        x = self.fc2(x)\n",
    "        return x"
   ]
  },
  {
   "cell_type": "markdown",
   "metadata": {},
   "source": [
    "## Train the model"
   ]
  },
  {
   "cell_type": "code",
   "execution_count": 4,
   "metadata": {},
   "outputs": [
    {
     "name": "stdout",
     "output_type": "stream",
     "text": [
      "......................................................................................................................\n",
      "Train loss on last batch 0.11452141404151917\n"
     ]
    }
   ],
   "source": [
    "# Train model\n",
    "model = SimpleConv(dropout_mask=BasicBernoulliMask)\n",
    "criterion = nn.CrossEntropyLoss()\n",
    "optimizer = torch.optim.Adam(model.parameters())\n",
    "\n",
    "for x_batch, y_batch in train_loader: # Train for one epoch\n",
    "    print('.', end='')\n",
    "    prediction = model(x_batch)\n",
    "    optimizer.zero_grad()\n",
    "    loss = criterion(prediction, y_batch)\n",
    "    loss.backward()\n",
    "    optimizer.step()\n",
    "print('\\nTrain loss on last batch', loss.item())"
   ]
  },
  {
   "cell_type": "code",
   "execution_count": 5,
   "metadata": {},
   "outputs": [
    {
     "name": "stdout",
     "output_type": "stream",
     "text": [
      "Accuracy: 0.978515625\n"
     ]
    }
   ],
   "source": [
    "model.eval()\n",
    "# Check accuracy\n",
    "x_batch, y_batch = next(iter(val_loader))\n",
    "class_preds = F.softmax(model(x_batch), dim=-1).detach().numpy()\n",
    "predictions = np.argmax(class_preds, axis=-1)\n",
<<<<<<< HEAD
    "print('Accuracy:', accuracy_score(predictions, y_batch))"
   ]
  },
  {
   "cell_type": "markdown",
   "metadata": {},
   "source": [
    "## Estimate uncertainty"
   ]
  },
  {
   "cell_type": "code",
   "execution_count": 6,
   "metadata": {},
   "outputs": [
    {
     "name": "stderr",
     "output_type": "stream",
     "text": [
      "Uncertainty estimation with MCDUE_classification approach: 100%|██████████| 25/25 [00:03<00:00,  7.11it/s]\n"
     ]
    }
   ],
   "source": [
    "# Calculate uncertainty estimation\n",
    "estimator = MCDUE(model, num_classes=10, acquisition=\"bald\")\n",
    "predictions, estimations = estimator(x_batch)"
   ]
  },
  {
   "cell_type": "code",
   "execution_count": 7,
   "metadata": {},
   "outputs": [
    {
     "name": "stdout",
     "output_type": "stream",
     "text": [
      "Accuracy: 0.978515625\n"
     ]
    }
   ],
   "source": [
    "class_preds = F.softmax(predictions, dim=-1).detach().numpy()\n",
    "predictions = np.argmax(class_preds, axis=-1)\n",
    "print('Accuracy:', accuracy_score(predictions, y_batch))"
=======
    "print('Accuracy', accuracy_score(predictions, y_batch))\n"
>>>>>>> master
   ]
  },
  {
   "cell_type": "code",
<<<<<<< HEAD
   "execution_count": 8,
   "metadata": {},
   "outputs": [],
   "source": [
    "score = classification_metric(estimations, np.equal(predictions, y_batch))"
   ]
  },
  {
   "cell_type": "code",
   "execution_count": 9,
   "metadata": {},
   "outputs": [
    {
     "data": {
      "text/plain": [
       "Text(0, 0.5, 'Accuracy')"
      ]
     },
     "execution_count": 9,
     "metadata": {},
     "output_type": "execute_result"
    },
    {
     "data": {
      "image/png": "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\n",
      "text/plain": [
       "<Figure size 432x288 with 1 Axes>"
      ]
     },
     "metadata": {
      "needs_background": "light"
     },
     "output_type": "display_data"
    }
   ],
   "source": [
    "plt.plot(*score)\n",
    "plt.xlabel(\"Fraction\")\n",
    "plt.ylabel(\"Accuracy\")"
   ]
  },
  {
   "cell_type": "markdown",
   "metadata": {},
   "source": [
    "## Random uncertainty"
=======
   "execution_count": null,
   "metadata": {
    "pycharm": {
     "is_executing": false,
     "name": "#%%\n"
    }
   },
   "outputs": [],
   "source": [
    "# Calculate uncertainty estimation\n",
    "estimator = build_estimator(\"bald\", model, dropout_mask='mc_dropout', num_classes=10)\n",
    "estimations = estimator.estimate(x_batch)\n"
>>>>>>> master
   ]
  },
  {
   "cell_type": "code",
<<<<<<< HEAD
   "execution_count": 10,
   "metadata": {},
   "outputs": [],
   "source": [
    "estimations_random = torch.randn_like(estimations)"
=======
   "execution_count": null,
   "metadata": {
    "pycharm": {
     "is_executing": false,
     "name": "#%%\n"
    }
   },
   "outputs": [],
   "source": [
    "# Calculate NDCG score for the uncertainty\n",
    "errors = [metrics.log_loss(target.reshape(-1, 1), pred.reshape((-1, 10)), labels=list(range(10))) for pred, target in zip(class_preds, y_batch.numpy())]\n",
    "\n",
    "score = ndcg(np.array(errors), estimations)\n",
    "print(\"Quality score is \", score)"
>>>>>>> master
   ]
  },
  {
   "cell_type": "code",
<<<<<<< HEAD
   "execution_count": 11,
   "metadata": {},
   "outputs": [],
   "source": [
    "score = classification_metric(estimations_random, np.equal(predictions, y_batch))"
   ]
  },
  {
   "cell_type": "code",
   "execution_count": 12,
   "metadata": {},
   "outputs": [
    {
     "data": {
      "text/plain": [
       "Text(0, 0.5, 'Accuracy')"
      ]
     },
     "execution_count": 12,
     "metadata": {},
     "output_type": "execute_result"
    },
    {
     "data": {
      "image/png": "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\n",
      "text/plain": [
       "<Figure size 432x288 with 1 Axes>"
      ]
     },
     "metadata": {
      "needs_background": "light"
     },
     "output_type": "display_data"
    }
   ],
   "source": [
    "plt.plot(*score)\n",
    "plt.xlabel(\"Fraction\")\n",
    "plt.ylabel(\"Accuracy\")"
   ]
  },
  {
   "cell_type": "code",
   "execution_count": null,
   "metadata": {},
   "outputs": [],
   "source": []
=======
   "execution_count": null,
   "metadata": {
    "pycharm": {
     "is_executing": false,
     "name": "#%%\n"
    }
   },
   "outputs": [],
   "source": [
    "\n"
   ]
>>>>>>> master
  }
 ],
 "metadata": {
  "kernelspec": {
   "display_name": "Python 3",
   "language": "python",
   "name": "python3"
  },
  "language_info": {
   "codemirror_mode": {
    "name": "ipython",
    "version": 3
   },
   "file_extension": ".py",
   "mimetype": "text/x-python",
   "name": "python",
   "nbconvert_exporter": "python",
   "pygments_lexer": "ipython3",
   "version": "3.7.3"
  },
<<<<<<< HEAD
=======
  "pycharm": {
   "stem_cell": {
    "cell_type": "raw",
    "metadata": {
     "collapsed": false
    },
    "source": []
   }
  },
>>>>>>> master
  "varInspector": {
   "cols": {
    "lenName": 16,
    "lenType": 16,
    "lenVar": 40
   },
   "kernels_config": {
    "python": {
     "delete_cmd_postfix": "",
     "delete_cmd_prefix": "del ",
     "library": "var_list.py",
     "varRefreshCmd": "print(var_dic_list())"
    },
    "r": {
     "delete_cmd_postfix": ") ",
     "delete_cmd_prefix": "rm(",
     "library": "var_list.r",
     "varRefreshCmd": "cat(var_dic_list()) "
    }
   },
   "types_to_exclude": [
    "module",
    "function",
    "builtin_function_or_method",
    "instance",
    "_Feature"
   ],
   "window_display": false
  }
 },
 "nbformat": 4,
<<<<<<< HEAD
 "nbformat_minor": 2
=======
 "nbformat_minor": 1
>>>>>>> master
}
